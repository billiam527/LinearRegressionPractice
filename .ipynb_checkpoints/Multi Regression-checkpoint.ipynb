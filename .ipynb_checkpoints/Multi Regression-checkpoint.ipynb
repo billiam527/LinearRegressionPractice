{
 "cells": [
  {
   "cell_type": "code",
   "execution_count": 2,
   "metadata": {
    "collapsed": true
   },
   "outputs": [],
   "source": [
    "import matplotlib.pyplot as plt\n",
    "import numpy as np\n",
    "import pandas as pd\n",
    "from sklearn import datasets, linear_model\n",
    "from sklearn.metrics import mean_squared_error, r2_score\n",
    "import seaborn as sns"
   ]
  },
  {
   "cell_type": "code",
   "execution_count": 28,
   "metadata": {
    "collapsed": true
   },
   "outputs": [],
   "source": [
    "filename = 'C:/Users/billf/Desktop/Data_Science/LinearRegressionPractice/2018_NBA_multiparameter_PPG.csv'\n",
    "data = pd.read_csv(filename)"
   ]
  },
  {
   "cell_type": "code",
   "execution_count": 29,
   "metadata": {},
   "outputs": [
    {
     "data": {
      "text/html": [
       "<div>\n",
       "<style>\n",
       "    .dataframe thead tr:only-child th {\n",
       "        text-align: right;\n",
       "    }\n",
       "\n",
       "    .dataframe thead th {\n",
       "        text-align: left;\n",
       "    }\n",
       "\n",
       "    .dataframe tbody tr th {\n",
       "        vertical-align: top;\n",
       "    }\n",
       "</style>\n",
       "<table border=\"1\" class=\"dataframe\">\n",
       "  <thead>\n",
       "    <tr style=\"text-align: right;\">\n",
       "      <th></th>\n",
       "      <th>Team</th>\n",
       "      <th>3PA</th>\n",
       "      <th>3P%</th>\n",
       "      <th>ORB</th>\n",
       "      <th>PTS</th>\n",
       "    </tr>\n",
       "  </thead>\n",
       "  <tbody>\n",
       "    <tr>\n",
       "      <th>0</th>\n",
       "      <td>Golden State Warriors</td>\n",
       "      <td>28.9</td>\n",
       "      <td>0.391</td>\n",
       "      <td>8.4</td>\n",
       "      <td>113.5</td>\n",
       "    </tr>\n",
       "    <tr>\n",
       "      <th>1</th>\n",
       "      <td>Houston Rockets</td>\n",
       "      <td>42.3</td>\n",
       "      <td>0.362</td>\n",
       "      <td>9.0</td>\n",
       "      <td>112.4</td>\n",
       "    </tr>\n",
       "    <tr>\n",
       "      <th>2</th>\n",
       "      <td>New Orleans Pelicans</td>\n",
       "      <td>28.2</td>\n",
       "      <td>0.362</td>\n",
       "      <td>8.7</td>\n",
       "      <td>111.7</td>\n",
       "    </tr>\n",
       "    <tr>\n",
       "      <th>3</th>\n",
       "      <td>Toronto Raptors</td>\n",
       "      <td>33.0</td>\n",
       "      <td>0.358</td>\n",
       "      <td>9.8</td>\n",
       "      <td>111.7</td>\n",
       "    </tr>\n",
       "    <tr>\n",
       "      <th>4</th>\n",
       "      <td>Cleveland Cavaliers</td>\n",
       "      <td>32.1</td>\n",
       "      <td>0.372</td>\n",
       "      <td>8.5</td>\n",
       "      <td>110.9</td>\n",
       "    </tr>\n",
       "  </tbody>\n",
       "</table>\n",
       "</div>"
      ],
      "text/plain": [
       "                    Team   3PA    3P%  ORB    PTS\n",
       "0  Golden State Warriors  28.9  0.391  8.4  113.5\n",
       "1        Houston Rockets  42.3  0.362  9.0  112.4\n",
       "2   New Orleans Pelicans  28.2  0.362  8.7  111.7\n",
       "3        Toronto Raptors  33.0  0.358  9.8  111.7\n",
       "4    Cleveland Cavaliers  32.1  0.372  8.5  110.9"
      ]
     },
     "execution_count": 29,
     "metadata": {},
     "output_type": "execute_result"
    }
   ],
   "source": [
    "data.head()"
   ]
  },
  {
   "cell_type": "code",
   "execution_count": 5,
   "metadata": {},
   "outputs": [
    {
     "data": {
      "text/html": [
       "<div>\n",
       "<style>\n",
       "    .dataframe thead tr:only-child th {\n",
       "        text-align: right;\n",
       "    }\n",
       "\n",
       "    .dataframe thead th {\n",
       "        text-align: left;\n",
       "    }\n",
       "\n",
       "    .dataframe tbody tr th {\n",
       "        vertical-align: top;\n",
       "    }\n",
       "</style>\n",
       "<table border=\"1\" class=\"dataframe\">\n",
       "  <thead>\n",
       "    <tr style=\"text-align: right;\">\n",
       "      <th></th>\n",
       "      <th>Team</th>\n",
       "      <th>3PA</th>\n",
       "      <th>3P%</th>\n",
       "      <th>ORB</th>\n",
       "      <th>PTS</th>\n",
       "    </tr>\n",
       "  </thead>\n",
       "  <tbody>\n",
       "    <tr>\n",
       "      <th>25</th>\n",
       "      <td>Chicago Bulls</td>\n",
       "      <td>31.1</td>\n",
       "      <td>0.355</td>\n",
       "      <td>9.6</td>\n",
       "      <td>102.9</td>\n",
       "    </tr>\n",
       "    <tr>\n",
       "      <th>26</th>\n",
       "      <td>San Antonio Spurs</td>\n",
       "      <td>24.1</td>\n",
       "      <td>0.352</td>\n",
       "      <td>10.4</td>\n",
       "      <td>102.7</td>\n",
       "    </tr>\n",
       "    <tr>\n",
       "      <th>27</th>\n",
       "      <td>Dallas Mavericks</td>\n",
       "      <td>32.8</td>\n",
       "      <td>0.360</td>\n",
       "      <td>8.1</td>\n",
       "      <td>102.3</td>\n",
       "    </tr>\n",
       "    <tr>\n",
       "      <th>28</th>\n",
       "      <td>Memphis Grizzlies</td>\n",
       "      <td>26.2</td>\n",
       "      <td>0.352</td>\n",
       "      <td>9.5</td>\n",
       "      <td>99.3</td>\n",
       "    </tr>\n",
       "    <tr>\n",
       "      <th>29</th>\n",
       "      <td>Sacramento Kings</td>\n",
       "      <td>24.0</td>\n",
       "      <td>0.375</td>\n",
       "      <td>9.5</td>\n",
       "      <td>98.8</td>\n",
       "    </tr>\n",
       "  </tbody>\n",
       "</table>\n",
       "</div>"
      ],
      "text/plain": [
       "                 Team   3PA    3P%   ORB    PTS\n",
       "25      Chicago Bulls  31.1  0.355   9.6  102.9\n",
       "26  San Antonio Spurs  24.1  0.352  10.4  102.7\n",
       "27   Dallas Mavericks  32.8  0.360   8.1  102.3\n",
       "28  Memphis Grizzlies  26.2  0.352   9.5   99.3\n",
       "29   Sacramento Kings  24.0  0.375   9.5   98.8"
      ]
     },
     "execution_count": 5,
     "metadata": {},
     "output_type": "execute_result"
    }
   ],
   "source": [
    "data.tail()"
   ]
  },
  {
   "cell_type": "code",
   "execution_count": 6,
   "metadata": {
    "collapsed": true
   },
   "outputs": [],
   "source": [
    "data.set_index('Team')\n",
    "data_scaled=data\n",
    "#print(data_scaled)"
   ]
  },
  {
   "cell_type": "code",
   "execution_count": 8,
   "metadata": {},
   "outputs": [
    {
     "name": "stdout",
     "output_type": "stream",
     "text": [
      "                      Team       3PA       3P%       ORB    PTS\n",
      "0    Golden State Warriors -0.024454  2.638219 -1.420209  113.5\n",
      "1          Houston Rockets  3.365436  0.024038 -0.771383  112.4\n",
      "2     New Orleans Pelicans -0.201538  0.024038 -1.095796  111.7\n",
      "3          Toronto Raptors  1.012751 -0.336538  0.093719  111.7\n",
      "4      Cleveland Cavaliers  0.785072  0.925480 -1.312072  110.9\n",
      "5           Denver Nuggets  0.481499  0.835336  1.391373  110.0\n",
      "6       Philadelphia 76ers  0.203225  0.655048  1.283235  109.8\n",
      "7   Minnesota Timberwolves -1.643507 -0.426682  0.634408  109.5\n",
      "8     Los Angeles Clippers -0.555706 -0.697115  0.418133  109.0\n",
      "9        Charlotte Hornets -0.454515  0.655048  0.418133  108.2\n",
      "10      Los Angeles Lakers  0.026141 -1.508412  1.066959  108.1\n",
      "11   Oklahoma City Thunder  0.355011 -0.697115  3.013439  107.9\n",
      "12      Washington Wizards -0.631599  1.195913  0.309995  106.6\n",
      "13           Brooklyn Nets  1.695789 -0.516827 -0.014418  106.6\n",
      "14         Milwaukee Bucks -1.086957 -0.606971 -1.420209  106.5\n",
      "15  Portland Trail Blazers -0.226836  0.384615  0.526271  105.6\n",
      "16          Indiana Pacers -1.137553  0.655048 -0.122556  105.6\n",
      "17         New York Knicks -1.441125 -0.877403  0.850684  104.5\n",
      "18               Utah Jazz  0.152629  0.384615 -0.771383  104.1\n",
      "19          Boston Celtics  0.355011  1.376201 -0.338832  104.0\n",
      "20            Phoenix Suns -0.277431 -2.499998  0.634408  103.9\n",
      "21         Detroit Pistons -0.024454  1.015624  0.418133  103.8\n",
      "22              Miami Heat  0.405606 -0.156250 -0.446969  103.4\n",
      "23           Orlando Magic  0.076736 -0.967547 -0.987658  103.4\n",
      "24           Atlanta Hawks  0.506797 -0.156250 -0.771383  103.4\n",
      "25           Chicago Bulls  0.532095 -0.606971 -0.122556  102.9\n",
      "26       San Antonio Spurs -1.238744 -0.877403  0.742546  102.7\n",
      "27        Dallas Mavericks  0.962155 -0.156250 -1.744623  102.3\n",
      "28       Memphis Grizzlies -0.707492 -0.877403 -0.230694   99.3\n",
      "29        Sacramento Kings -1.264041  1.195913 -0.230694   98.8\n"
     ]
    }
   ],
   "source": [
    "#Feature scaling (could probably be looped)\n",
    "data_scaled['3PA'] = ((data_scaled['3PA']-data_scaled['3PA'].mean())/np.std(data_scaled['3PA']))\n",
    "data_scaled['ORB'] = ((data_scaled['ORB']-data_scaled['ORB'].mean())/np.std(data_scaled['ORB']))\n",
    "data_scaled['3P%'] = ((data_scaled['3P%']-data_scaled['3P%'].mean())/np.std(data_scaled['3P%']))\n",
    "print(data_scaled)"
   ]
  },
  {
   "cell_type": "code",
   "execution_count": 10,
   "metadata": {},
   "outputs": [
    {
     "data": {
      "image/png": "[encoded data removed]",
      "text/plain": [
       "<matplotlib.figure.Figure at 0x11fe2436f60>"
      ]
     },
     "metadata": {},
     "output_type": "display_data"
    }
   ],
   "source": [
    "X=data_scaled[['3PA','3P%','ORB']]\n",
    "y=data_scaled[['PTS']]\n",
    "legend=True\n",
    "plt.scatter(X['3PA'],y,c=\"orange\",label=\"3PA\")\n",
    "plt.scatter(X['3P%'],y,c=\"blue\",label=\"3P%\")\n",
    "plt.scatter(X['ORB'],y,c=\"red\",label=\"ORB\")\n",
    "plt.xlabel(\"Featues_scaled\")\n",
    "plt.ylabel(\"PPG\")\n",
    "plt.show()"
   ]
  },
  {
   "cell_type": "code",
   "execution_count": 11,
   "metadata": {
    "collapsed": true
   },
   "outputs": [],
   "source": [
    "X_train = X[:25]\n",
    "y_train = y[:25]\n",
    "X_test = X[25:]\n",
    "y_test = y[25:]\n",
    "#print(y_test)"
   ]
  },
  {
   "cell_type": "code",
   "execution_count": 12,
   "metadata": {},
   "outputs": [
    {
     "data": {
      "text/plain": [
       "LinearRegression(copy_X=True, fit_intercept=True, n_jobs=1, normalize=False)"
      ]
     },
     "execution_count": 12,
     "metadata": {},
     "output_type": "execute_result"
    }
   ],
   "source": [
    "regr = linear_model.LinearRegression()\n",
    "regr.fit(X_train, y_train)"
   ]
  },
  {
   "cell_type": "code",
   "execution_count": 13,
   "metadata": {},
   "outputs": [
    {
     "name": "stdout",
     "output_type": "stream",
     "text": [
      "            0\n",
      "0  107.118127\n",
      "1  105.554316\n",
      "2  107.500192\n",
      "3  105.773583\n",
      "4  107.179805\n",
      "      PTS\n",
      "25  102.9\n",
      "26  102.7\n",
      "27  102.3\n",
      "28   99.3\n",
      "29   98.8\n"
     ]
    }
   ],
   "source": [
    "y_pred = regr.predict(X_test)\n",
    "print(pd.DataFrame(y_pred))\n",
    "print(y_test)"
   ]
  },
  {
   "cell_type": "code",
   "execution_count": 14,
   "metadata": {},
   "outputs": [
    {
     "name": "stdout",
     "output_type": "stream",
     "text": [
      "Coefficients: \n",
      " [[ 0.86455636  0.91032422  0.24662922]] \n",
      "\n",
      "Intercept: \n",
      " [ 107.24086746]\n"
     ]
    }
   ],
   "source": [
    "print('Coefficients: \\n', regr.coef_,'\\n')\n",
    "print('Intercept: \\n', regr.intercept_)"
   ]
  },
  {
   "cell_type": "code",
   "execution_count": 15,
   "metadata": {},
   "outputs": [
    {
     "name": "stdout",
     "output_type": "stream",
     "text": [
      "Mean squared error: 33.02\n"
     ]
    }
   ],
   "source": [
    "print(\"Mean squared error: %.2f\" % mean_squared_error(y_test, y_pred))"
   ]
  },
  {
   "cell_type": "code",
   "execution_count": 16,
   "metadata": {},
   "outputs": [
    {
     "name": "stdout",
     "output_type": "stream",
     "text": [
      "Variance score: -9.50\n"
     ]
    }
   ],
   "source": [
    "print('Variance score: %.2f' % r2_score(y_test, y_pred))"
   ]
  },
  {
   "cell_type": "code",
   "execution_count": null,
   "metadata": {
    "collapsed": true
   },
   "outputs": [],
   "source": [
    "ThreePA = input(\"3PA\")\n",
    "ThreePP = input(\"3P%\")\n",
    "ORB = input(\"ORB\")\n",
    "def predict_score(ThreePA,ThreePP,ORB):\n",
    "    ThreePA = ((ThreePA-data['3PA'].mean())/np.std(data['3PA']))\n",
    "    ORB = ((ORB-data['ORB'].mean())/np.std(data['ORB']))\n",
    "    ThreePP = ((ThreePP-data['3P%'].mean())/np.std(data['3P%']))\n",
    "    #print(ThreePA, ThreePP, ORB)\n",
    "    regr.fit(X_train, y_train)\n",
    "    X = [[ThreePA,ThreePP,ORB]]\n",
    "    print(\"Expected score: {}\".format(float(regr.predict(X))))\n",
    "predict_score(float(ThreePA),float(ThreePP),float(ORB))"
   ]
  }
 ],
 "metadata": {
  "kernelspec": {
   "display_name": "Python 3",
   "language": "python",
   "name": "python3"
  },
  "language_info": {
   "codemirror_mode": {
    "name": "ipython",
    "version": 3
   },
   "file_extension": ".py",
   "mimetype": "text/x-python",
   "name": "python",
   "nbconvert_exporter": "python",
   "pygments_lexer": "ipython3",
   "version": "3.6.2"
  }
 },
 "nbformat": 4,
 "nbformat_minor": 2
}
